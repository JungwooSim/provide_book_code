{
 "cells": [
  {
   "cell_type": "markdown",
   "metadata": {},
   "source": [
    "본서에서는 R의 gapminder 패키지를 사용하였다.\n",
    "<https://cran.r-project.org/web/packages/gapminder/index.html>\n",
    "패키지 소스의 갭마인더 데이터를 파이썬으로 읽어들이자.\n"
   ]
  },
  {
   "cell_type": "code",
   "execution_count": 1,
   "metadata": {},
   "outputs": [],
   "source": [
    "import os\n",
    "import requests\n",
    "import shutil\n",
    "\n",
    "path = \"data/gapminder.tsv\"\n",
    "if not os.path.exists(\"data\"):\n",
    "    os.mkdir(\"data\")\n",
    "\n",
    "gapminder_r_url = \"https://raw.githubusercontent.com/jennybc/gapminder/master/data-raw/07_gap-merged-with-continent.tsv\"\n",
    "r = requests.get(gapminder_r_url, stream=True)\n",
    "r.raise_for_status()\n",
    "\n",
    "with open(path, \"wb\") as f:\n",
    "    r.raw.decode_content = True\n",
    "    shutil.copyfileobj(r.raw, f)\n"
   ]
  },
  {
   "cell_type": "code",
   "execution_count": 2,
   "metadata": {},
   "outputs": [
    {
     "name": "stdout",
     "output_type": "stream",
     "text": [
      "country\tcontinent\tyear\tlifeExp\tpop\tgdpPercap\r\n",
      "Afghanistan\tAsia\t1952\t28.801\t8425333\t779.4453145\r\n",
      "Afghanistan\tAsia\t1957\t30.332\t9240934\t820.8530296\r\n",
      "Afghanistan\tAsia\t1962\t31.997\t10267083\t853.10071\r\n",
      "Afghanistan\tAsia\t1967\t34.02\t11537966\t836.1971382\r\n",
      "Afghanistan\tAsia\t1972\t36.088\t13079460\t739.9811058\r\n",
      "Afghanistan\tAsia\t1977\t38.438\t14880372\t786.11336\r\n",
      "Afghanistan\tAsia\t1982\t39.854\t12881816\t978.0114388\r\n",
      "Afghanistan\tAsia\t1987\t40.822\t13867957\t852.3959448\r\n",
      "Afghanistan\tAsia\t1992\t41.674\t16317921\t649.3413952\r\n"
     ]
    }
   ],
   "source": [
    "!head $path"
   ]
  }
 ],
 "metadata": {
  "kernelspec": {
   "display_name": "Python 2",
   "language": "python",
   "name": "python2"
  },
  "language_info": {
   "codemirror_mode": {
    "name": "ipython",
    "version": 2
   },
   "file_extension": ".py",
   "mimetype": "text/x-python",
   "name": "python",
   "nbconvert_exporter": "python",
   "pygments_lexer": "ipython2",
   "version": "2.7.14"
  }
 },
 "nbformat": 4,
 "nbformat_minor": 2
}
